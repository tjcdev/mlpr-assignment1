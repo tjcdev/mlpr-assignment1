{
 "cells": [
  {
   "cell_type": "code",
   "execution_count": 1,
   "metadata": {
    "collapsed": true
   },
   "outputs": [],
   "source": [
    "%matplotlib inline\n",
    "import matplotlib.pyplot as plt\n",
    "import numpy as np\n",
    "import scipy.io as sci\n",
    "from numpy.linalg import inv"
   ]
  },
  {
   "cell_type": "markdown",
   "metadata": {},
   "source": [
    "### Load the data"
   ]
  },
  {
   "cell_type": "code",
   "execution_count": 2,
   "metadata": {
    "collapsed": false
   },
   "outputs": [],
   "source": [
    "audio = sci.loadmat(\"amp_data.mat\", squeeze_me=False)"
   ]
  },
  {
   "cell_type": "code",
   "execution_count": 3,
   "metadata": {
    "collapsed": false
   },
   "outputs": [],
   "source": [
    "audio = np.array(audio['amp_data'])"
   ]
  },
  {
   "cell_type": "markdown",
   "metadata": {},
   "source": [
    "# Q1"
   ]
  },
  {
   "cell_type": "markdown",
   "metadata": {},
   "source": [
    "# a)"
   ]
  },
  {
   "cell_type": "markdown",
   "metadata": {},
   "source": [
    "### Plot a line graph of data"
   ]
  },
  {
   "cell_type": "code",
   "execution_count": 4,
   "metadata": {
    "collapsed": false
   },
   "outputs": [
    {
     "data": {
      "text/plain": [
       "[<matplotlib.lines.Line2D at 0x10405b0d0>]"
      ]
     },
     "execution_count": 4,
     "metadata": {},
     "output_type": "execute_result"
    },
    {
     "data": {
      "image/png": "[encoded data removed]",
      "text/plain": [
       "<matplotlib.figure.Figure at 0x1041525d0>"
      ]
     },
     "metadata": {},
     "output_type": "display_data"
    }
   ],
   "source": [
    "plt.plot(audio)"
   ]
  },
  {
   "cell_type": "markdown",
   "metadata": {},
   "source": [
    "### Plot histogram of data"
   ]
  },
  {
   "cell_type": "code",
   "execution_count": 5,
   "metadata": {
    "collapsed": false
   },
   "outputs": [
    {
     "data": {
      "image/png": "[encoded data removed]",
      "text/plain": [
       "<matplotlib.figure.Figure at 0x10400a650>"
      ]
     },
     "metadata": {},
     "output_type": "display_data"
    }
   ],
   "source": [
    "bins = plt.hist(audio, 100)"
   ]
  },
  {
   "cell_type": "markdown",
   "metadata": {},
   "source": [
    "Write Up:\n",
    "- On the histogram we have a clustering around 0.0\n",
    "- It looks like a Normal distribution around 0\n",
    "- We think we have some noise in the data (extreme values)\n",
    "- It has a low variance (due to having such short tails)\n"
   ]
  },
  {
   "cell_type": "markdown",
   "metadata": {},
   "source": [
    "# b)"
   ]
  },
  {
   "cell_type": "markdown",
   "metadata": {},
   "source": [
    "### Generate the matrix"
   ]
  },
  {
   "cell_type": "code",
   "execution_count": 6,
   "metadata": {
    "collapsed": false
   },
   "outputs": [],
   "source": [
    "C = len(audio) // 21\n",
    "throw_away = len(audio) % 21\n",
    "audio = audio[:-throw_away]\n",
    "audio = audio.reshape(C, 21)"
   ]
  },
  {
   "cell_type": "markdown",
   "metadata": {},
   "source": [
    "### Randomly shuffle the rows of the matrix"
   ]
  },
  {
   "cell_type": "code",
   "execution_count": 7,
   "metadata": {
    "collapsed": false
   },
   "outputs": [],
   "source": [
    "np.random.seed(0)\n",
    "np.random.shuffle(audio)"
   ]
  },
  {
   "cell_type": "markdown",
   "metadata": {
    "collapsed": false
   },
   "source": [
    "### Split into training, test and validation sets"
   ]
  },
  {
   "cell_type": "code",
   "execution_count": 8,
   "metadata": {
    "collapsed": false
   },
   "outputs": [],
   "source": [
    "train_size = int(np.floor(0.7 * C))\n",
    "val_size = int(np.floor(0.15 * C))\n",
    "test_size = int(C - train_size - val_size)"
   ]
  },
  {
   "cell_type": "code",
   "execution_count": 9,
   "metadata": {
    "collapsed": false
   },
   "outputs": [],
   "source": [
    "train_set = audio[0:train_size]"
   ]
  },
  {
   "cell_type": "code",
   "execution_count": 10,
   "metadata": {
    "collapsed": false
   },
   "outputs": [],
   "source": [
    "test_set = audio[train_size+1:train_size+test_size]"
   ]
  },
  {
   "cell_type": "code",
   "execution_count": 11,
   "metadata": {
    "collapsed": false
   },
   "outputs": [],
   "source": [
    "val_set = audio[train_size+test_size+1:]"
   ]
  },
  {
   "cell_type": "markdown",
   "metadata": {},
   "source": [
    "### Training"
   ]
  },
  {
   "cell_type": "code",
   "execution_count": 12,
   "metadata": {
    "collapsed": false
   },
   "outputs": [],
   "source": [
    "X_shuf_train = train_set[:, :20]"
   ]
  },
  {
   "cell_type": "code",
   "execution_count": 13,
   "metadata": {
    "collapsed": false
   },
   "outputs": [],
   "source": [
    "y_shuf_train = train_set[:, 20:21]"
   ]
  },
  {
   "cell_type": "markdown",
   "metadata": {},
   "source": [
    "### Validation"
   ]
  },
  {
   "cell_type": "code",
   "execution_count": 14,
   "metadata": {
    "collapsed": false
   },
   "outputs": [],
   "source": [
    "X_shuf_val = val_set[:, :20]"
   ]
  },
  {
   "cell_type": "code",
   "execution_count": 15,
   "metadata": {
    "collapsed": false
   },
   "outputs": [],
   "source": [
    "y_shuf_val = val_set[:, 20:21]"
   ]
  },
  {
   "cell_type": "markdown",
   "metadata": {},
   "source": [
    "### Test"
   ]
  },
  {
   "cell_type": "code",
   "execution_count": 16,
   "metadata": {
    "collapsed": false
   },
   "outputs": [],
   "source": [
    "X_shuf_test = test_set[:, :20]"
   ]
  },
  {
   "cell_type": "code",
   "execution_count": 17,
   "metadata": {
    "collapsed": false
   },
   "outputs": [],
   "source": [
    "y_shuf_test = test_set[:, 20:21]"
   ]
  },
  {
   "cell_type": "markdown",
   "metadata": {
    "collapsed": true
   },
   "source": [
    "# Q2"
   ]
  },
  {
   "cell_type": "markdown",
   "metadata": {},
   "source": [
    "### a) Straight Line and Quartic Fit"
   ]
  },
  {
   "cell_type": "code",
   "execution_count": 18,
   "metadata": {
    "collapsed": true
   },
   "outputs": [],
   "source": [
    "def phi_linear(Xin):\n",
    "    return np.array([np.ones(len(Xin)), Xin]).T\n",
    "\n",
    "def phi_poly(Xin):\n",
    "    return np.array([np.ones(len(Xin)), Xin, Xin**2, Xin**3, Xin**4]).T"
   ]
  },
  {
   "cell_type": "code",
   "execution_count": 19,
   "metadata": {
    "collapsed": false
   },
   "outputs": [
    {
     "data": {
      "image/png": "[encoded data removed]",
      "text/plain": [
       "<matplotlib.figure.Figure at 0x116343e50>"
      ]
     },
     "metadata": {},
     "output_type": "display_data"
    }
   ],
   "source": [
    "x_ticks = np.array([round(x/float(20), 2) for x in range(0, 20)])\n",
    "poly_ticks = np.append(x_ticks, [1])\n",
    "\n",
    "row_number = np.random.randint(0, X_shuf_train.shape[0])\n",
    "\n",
    "plt.plot(x_ticks, X_shuf_train[row_number, :], 'bx')\n",
    "\n",
    "linear_fit = np.linalg.lstsq(phi_linear(x_ticks), X_shuf_train[row_number, :])[0]\n",
    "line = np.dot(phi_linear(poly_ticks), linear_fit)\n",
    "plt.plot(poly_ticks, line, 'r-')\n",
    "\n",
    "quar_fit = np.linalg.lstsq(phi_poly(x_ticks), X_shuf_train[row_number, :])[0]\n",
    "poly_line = np.dot(phi_poly(poly_ticks), quar_fit)\n",
    "plt.plot(poly_ticks, poly_line, 'g-')\n",
    "\n",
    "plt.plot([1], y_shuf_train[row_number, :], 'rx')\n",
    "\n",
    "plt.show()"
   ]
  },
  {
   "cell_type": "markdown",
   "metadata": {},
   "source": [
    "## b)"
   ]
  },
  {
   "cell_type": "markdown",
   "metadata": {},
   "source": [
    "Linear Fit:\n",
    "- The curve is continuous\n",
    "- The gradient of the curve changes slowly\n",
    "- Estimating across all 20 points with the linear function averages the gradient across all 20 points and therefore it doesn't closely fit the extremes.\n",
    "- Doesn't allow for changes in slope and so can't accomodate the change in direction\n",
    "\n",
    "Quartic Fit:\n",
    "- Each row of our matrix are quite different curves (they vary in shape) and so the quartic fit can accomodate these curves more closely. \n"
   ]
  },
  {
   "cell_type": "markdown",
   "metadata": {},
   "source": [
    "### c)"
   ]
  },
  {
   "cell_type": "markdown",
   "metadata": {},
   "source": [
    "Judging by the graphs drawn above we would predict that a quartic fit with context length ~20 would be best at predicting the 21st point. A higher order polynomial might overfit the data and a lower order polynomial might not closely fit the varying amplitudes."
   ]
  },
  {
   "cell_type": "markdown",
   "metadata": {},
   "source": [
    "# Q3"
   ]
  },
  {
   "cell_type": "markdown",
   "metadata": {},
   "source": [
    "### a)"
   ]
  },
  {
   "cell_type": "code",
   "execution_count": 20,
   "metadata": {
    "collapsed": false
   },
   "outputs": [
    {
     "data": {
      "text/latex": [
       "Due to dimensionality,\n",
       "<br>\n",
       "$f(t=1) = (f(t=1))^{T} = [((\\pmb{\\phi}^{T}\\pmb{\\phi})^{-1}\\pmb{\\phi}^{T}\\textbf{x})\\pmb{\\phi}(t=1)]^{T}$\n",
       "<br>\n",
       "And therefore,\n",
       "<br>\n",
       "$f(t=1) = \\pmb{\\phi}^{T}(t=1)(\\pmb{\\phi}^{T}\\pmb{\\phi})^{-1}\\pmb{\\phi}^{T}\\textbf{x}$\n",
       "<br>\n",
       "Therefore,\n",
       "<br>\n",
       "$\\textbf{v}^{T} = \\pmb{\\phi}^{T}(t=1)(\\pmb{\\phi}^{T}\\pmb{\\phi})^{-1}\\pmb{\\phi}^{T}$\n",
       "<br>\n",
       "Therefore,\n",
       "<br>\n",
       "$\\textbf{v} = \\pmb{\\phi}(\\pmb{\\phi}^{T}\\pmb{\\phi})^{-T}\\pmb{\\phi}(t=1)$"
      ],
      "text/plain": [
       "<IPython.core.display.Latex object>"
      ]
     },
     "metadata": {},
     "output_type": "display_data"
    }
   ],
   "source": [
    "%%latex\n",
    "Due to dimensionality,\n",
    "<br>\n",
    "$f(t=1) = (f(t=1))^{T} = [((\\pmb{\\phi}^{T}\\pmb{\\phi})^{-1}\\pmb{\\phi}^{T}\\textbf{x})\\pmb{\\phi}(t=1)]^{T}$\n",
    "<br>\n",
    "And therefore,\n",
    "<br>\n",
    "$f(t=1) = \\pmb{\\phi}^{T}(t=1)(\\pmb{\\phi}^{T}\\pmb{\\phi})^{-1}\\pmb{\\phi}^{T}\\textbf{x}$\n",
    "<br>\n",
    "Therefore,\n",
    "<br>\n",
    "$\\textbf{v}^{T} = \\pmb{\\phi}^{T}(t=1)(\\pmb{\\phi}^{T}\\pmb{\\phi})^{-1}\\pmb{\\phi}^{T}$\n",
    "<br>\n",
    "Therefore,\n",
    "<br>\n",
    "$\\textbf{v} = \\pmb{\\phi}(\\pmb{\\phi}^{T}\\pmb{\\phi})^{-T}\\pmb{\\phi}(t=1)$"
   ]
  },
  {
   "cell_type": "markdown",
   "metadata": {
    "collapsed": true
   },
   "source": [
    "### b) i)"
   ]
  },
  {
   "cell_type": "code",
   "execution_count": 21,
   "metadata": {
    "collapsed": false
   },
   "outputs": [],
   "source": [
    "def row_constructor(c, K):\n",
    "    return np.array([c**i for i in range(0, K)])\n",
    "\n",
    "def Phi(C, K):\n",
    "    t_values = np.linspace((19-C+1)/float(20), 19/float(20), C)\n",
    "    return np.array([row_constructor(i, K) for i in t_values])"
   ]
  },
  {
   "cell_type": "markdown",
   "metadata": {},
   "source": [
    "### ii)"
   ]
  },
  {
   "cell_type": "code",
   "execution_count": 22,
   "metadata": {
    "collapsed": true
   },
   "outputs": [],
   "source": [
    "def make_vv(C, K):\n",
    "    phi_1 = row_constructor(1, K).T\n",
    "    phi = Phi(C, K)\n",
    "    return np.array([phi_1.T.dot(inv(phi.T.dot(phi))).dot(phi.T)])"
   ]
  },
  {
   "cell_type": "markdown",
   "metadata": {},
   "source": [
    "### iii)"
   ]
  },
  {
   "cell_type": "code",
   "execution_count": 23,
   "metadata": {
    "collapsed": true
   },
   "outputs": [],
   "source": [
    "row_number = np.random.randint(0, X_shuf_train.shape[0])\n",
    "training_row = X_shuf_train[row_number, :]"
   ]
  },
  {
   "cell_type": "markdown",
   "metadata": {},
   "source": [
    "### Model using matrix VV"
   ]
  },
  {
   "cell_type": "code",
   "execution_count": 24,
   "metadata": {
    "collapsed": false
   },
   "outputs": [],
   "source": [
    "linear_vv = make_vv(20, 2)\n",
    "quart_vv = make_vv(20, 5)\n",
    "\n",
    "linear_vv_y = linear_vv.dot(training_row.T)\n",
    "quart_vv_y = quart_vv.dot(training_row.T)"
   ]
  },
  {
   "cell_type": "markdown",
   "metadata": {},
   "source": [
    "### Model from Q2"
   ]
  },
  {
   "cell_type": "code",
   "execution_count": 25,
   "metadata": {
    "collapsed": false
   },
   "outputs": [],
   "source": [
    "x_ticks = np.array([round(x/float(20), 2) for x in range(0, 20)])\n",
    "poly_ticks = np.append(x_ticks, [1])\n",
    "\n",
    "linear_fit_y = np.linalg.lstsq(phi_linear(x_ticks), training_row)[0]\n",
    "linear_line_y = np.dot(phi_linear(poly_ticks), linear_fit_y)\n",
    "\n",
    "quart_fit_y = np.linalg.lstsq(phi_poly(x_ticks), training_row)[0]\n",
    "quart_line_y = np.dot(phi_poly(poly_ticks), quart_fit_y)"
   ]
  },
  {
   "cell_type": "markdown",
   "metadata": {},
   "source": [
    "### Predictions"
   ]
  },
  {
   "cell_type": "code",
   "execution_count": 26,
   "metadata": {
    "collapsed": false
   },
   "outputs": [
    {
     "name": "stdout",
     "output_type": "stream",
     "text": [
      "Prediction using VV for linear fit, [ 0.05725708]\n",
      "Prediction using VV for quartic fit, [ 0.00791362]\n",
      "Prediction using Q2 model for linear fit, [ 0.05725708]\n",
      "Prediction using Q2 model for quartic fit, [ 0.00791362]\n"
     ]
    }
   ],
   "source": [
    "print \"Prediction using VV for linear fit, \" + str(linear_vv_y)\n",
    "print \"Prediction using VV for quartic fit, \" + str(quart_vv_y)\n",
    "print \"Prediction using Q2 model for linear fit, \" + str(linear_line_y[20:])\n",
    "print \"Prediction using Q2 model for quartic fit, \" + str(quart_line_y[20:])"
   ]
  },
  {
   "cell_type": "markdown",
   "metadata": {},
   "source": [
    "### c)"
   ]
  },
  {
   "cell_type": "markdown",
   "metadata": {},
   "source": [
    "### i)"
   ]
  },
  {
   "cell_type": "code",
   "execution_count": 27,
   "metadata": {
    "collapsed": true
   },
   "outputs": [],
   "source": [
    "def least_sum_of_squares(vv, rows, y_values):\n",
    "    y_prediction = vv.dot(rows.T)\n",
    "    return np.sum(np.power((y_prediction - y_values.T), 2))"
   ]
  },
  {
   "cell_type": "markdown",
   "metadata": {},
   "source": [
    "### Evaluate K and C by Least Sum of Squares"
   ]
  },
  {
   "cell_type": "code",
   "execution_count": 28,
   "metadata": {
    "collapsed": false
   },
   "outputs": [],
   "source": [
    "training_rows = []\n",
    "random_rows = np.random.randint(X_shuf_train.shape[0], size=1000000)\n",
    "training_rows = X_shuf_train[random_rows,:]\n",
    "actual_y_values = y_shuf_train[random_rows, :]\n",
    "\n",
    "min_lss = 10000000\n",
    "min_C = 0\n",
    "min_K = 0\n",
    "\n",
    "for C in range(2, 20):\n",
    "    for K in range(1, 21):\n",
    "        #Generate our matrix for C and K\n",
    "        vv = make_vv(C, K)\n",
    "        lss = least_sum_of_squares(vv, training_rows[:, X_shuf_train.shape[1]-C:], actual_y_values)\n",
    "        \n",
    "        if (lss < min_lss):\n",
    "            min_C = C\n",
    "            min_K = K\n",
    "            min_lss = lss"
   ]
  },
  {
   "cell_type": "markdown",
   "metadata": {},
   "source": [
    "### Best settings for training set"
   ]
  },
  {
   "cell_type": "code",
   "execution_count": 29,
   "metadata": {
    "collapsed": false
   },
   "outputs": [
    {
     "name": "stdout",
     "output_type": "stream",
     "text": [
      "The best setting for C on the training set is 2\n",
      "The best setting for K on the training set is 2\n"
     ]
    }
   ],
   "source": [
    "print \"The best setting for C on the training set is \" + str(min_C)\n",
    "print \"The best setting for K on the training set is \" + str(min_K)"
   ]
  },
  {
   "cell_type": "markdown",
   "metadata": {},
   "source": [
    "Therefore we should be using C=2 and K=2 for predicting our 21st point."
   ]
  },
  {
   "cell_type": "markdown",
   "metadata": {},
   "source": [
    "### ii)"
   ]
  },
  {
   "cell_type": "markdown",
   "metadata": {},
   "source": [
    "### Evaluate Model on Training, Validation and Test Set"
   ]
  },
  {
   "cell_type": "code",
   "execution_count": 30,
   "metadata": {
    "collapsed": true
   },
   "outputs": [],
   "source": [
    "def mean_square_error(vv, rows, y_values):\n",
    "    y_prediction = vv.dot(rows.T)\n",
    "    return (1/float(rows.shape[0]))*np.sum(np.power((y_prediction - y_values.T), 2))"
   ]
  },
  {
   "cell_type": "code",
   "execution_count": 31,
   "metadata": {
    "collapsed": true
   },
   "outputs": [],
   "source": [
    "def get_mean_square_error_from_set(rows, y_values):    \n",
    "    vv = make_vv(2, 2)\n",
    "    \n",
    "    min_mse = 10000000\n",
    "\n",
    "    mse = mean_square_error(vv, rows[:, rows.shape[1]-2:], y_values)\n",
    "\n",
    "    if (mse < min_mse):\n",
    "        min_mse = mse\n",
    "        \n",
    "    return min_mse"
   ]
  },
  {
   "cell_type": "markdown",
   "metadata": {},
   "source": [
    "### Train Set"
   ]
  },
  {
   "cell_type": "code",
   "execution_count": 32,
   "metadata": {
    "collapsed": false
   },
   "outputs": [
    {
     "name": "stdout",
     "output_type": "stream",
     "text": [
      "The mean square error on the train set is: 1.35581519775e-05\n"
     ]
    }
   ],
   "source": [
    "print \"The mean square error on the train set is: \" + str(get_mean_square_error_from_set(X_shuf_train, y_shuf_train))"
   ]
  },
  {
   "cell_type": "markdown",
   "metadata": {},
   "source": [
    "### Validation Set"
   ]
  },
  {
   "cell_type": "code",
   "execution_count": 33,
   "metadata": {
    "collapsed": false
   },
   "outputs": [
    {
     "name": "stdout",
     "output_type": "stream",
     "text": [
      "The mean square error on the validation set is: 1.35177656581e-05\n"
     ]
    }
   ],
   "source": [
    "print \"The mean square error on the validation set is: \" + str(get_mean_square_error_from_set(X_shuf_val, y_shuf_val))"
   ]
  },
  {
   "cell_type": "markdown",
   "metadata": {},
   "source": [
    "### Test Set"
   ]
  },
  {
   "cell_type": "code",
   "execution_count": 34,
   "metadata": {
    "collapsed": false
   },
   "outputs": [
    {
     "name": "stdout",
     "output_type": "stream",
     "text": [
      "The mean square error on the test set is: 1.33999180498e-05\n"
     ]
    }
   ],
   "source": [
    "print \"The mean square error on the test set is: \" + str(get_mean_square_error_from_set(X_shuf_test, y_shuf_test))"
   ]
  },
  {
   "cell_type": "markdown",
   "metadata": {},
   "source": [
    "# Q4"
   ]
  },
  {
   "cell_type": "markdown",
   "metadata": {},
   "source": [
    "### a)"
   ]
  },
  {
   "cell_type": "markdown",
   "metadata": {},
   "source": [
    "### Evaluate different values of C for linear model"
   ]
  },
  {
   "cell_type": "code",
   "execution_count": 35,
   "metadata": {
    "collapsed": true
   },
   "outputs": [],
   "source": [
    "def test_different_c_on_mse(rows, y_values):\n",
    "    min_mse = 10000000\n",
    "    min_C = 0\n",
    "    \n",
    "    for c in range(1, 20):\n",
    "        vv = make_vv(c, 2)\n",
    "        mse = mean_square_error(vv, rows[:, rows.shape[1]-c:], y_values)\n",
    "\n",
    "        if (mse < min_mse):\n",
    "            min_mse = mse\n",
    "            min_C = c\n",
    "    return (min_mse, min_C)"
   ]
  },
  {
   "cell_type": "markdown",
   "metadata": {},
   "source": [
    "##### Training Set"
   ]
  },
  {
   "cell_type": "code",
   "execution_count": 36,
   "metadata": {
    "collapsed": false
   },
   "outputs": [
    {
     "name": "stdout",
     "output_type": "stream",
     "text": [
      "The mean square error of our best fitting model is 1.35581519775e-05\n",
      "The best fitting linear model has value C=2\n"
     ]
    }
   ],
   "source": [
    "(mse, C) = test_different_c_on_mse(X_shuf_train, y_shuf_train)\n",
    "print \"The mean square error of our best fitting model is \" + str(mse)\n",
    "print \"The best fitting linear model has value C=\" + str(C)"
   ]
  },
  {
   "cell_type": "markdown",
   "metadata": {},
   "source": [
    "##### Validation Set"
   ]
  },
  {
   "cell_type": "code",
   "execution_count": 37,
   "metadata": {
    "collapsed": false
   },
   "outputs": [
    {
     "name": "stdout",
     "output_type": "stream",
     "text": [
      "The mean square error of our best fitting model is 1.35177656581e-05\n",
      "The best fitting linear model has value C=2\n"
     ]
    }
   ],
   "source": [
    "(mse, C) = test_different_c_on_mse(X_shuf_val, y_shuf_val)\n",
    "print \"The mean square error of our best fitting model is \" + str(mse)\n",
    "print \"The best fitting linear model has value C=\" + str(C)"
   ]
  },
  {
   "cell_type": "markdown",
   "metadata": {},
   "source": [
    "Why is this the case?\n",
    "\n",
    "- Because the gradient of the line from the 19th to the 20th point is almost constant (and therefore a straight line) and the 21st point won't deviate by mufrom that line\n",
    "- The difference in the gradient of the lines between every pair of data points, changes at a slow rate. Therefore a line between point (n-2) and (n-1) will likely closely predict point n"
   ]
  },
  {
   "cell_type": "markdown",
   "metadata": {},
   "source": [
    "### b)"
   ]
  },
  {
   "cell_type": "markdown",
   "metadata": {},
   "source": [
    "Comparing approaches:\n",
    "\n",
    "- Our approach from Q3 and Q4a) resulted in the same model and therefore their mean squared errors are the same"
   ]
  },
  {
   "cell_type": "markdown",
   "metadata": {},
   "source": [
    "### c)"
   ]
  },
  {
   "cell_type": "code",
   "execution_count": 38,
   "metadata": {
    "collapsed": false
   },
   "outputs": [],
   "source": [
    "vv = make_vv(2, 2)\n",
    "y_prediction = vv.dot(X_shuf_val[:, X_shuf_val.shape[1]-2:].T)\n",
    "residuals = (y_prediction - y_shuf_val.T)"
   ]
  },
  {
   "cell_type": "code",
   "execution_count": 39,
   "metadata": {
    "collapsed": false
   },
   "outputs": [
    {
     "data": {
      "image/png": "[encoded data removed]",
      "text/plain": [
       "<matplotlib.figure.Figure at 0x116238b50>"
      ]
     },
     "metadata": {},
     "output_type": "display_data"
    }
   ],
   "source": [
    "residual_bins = plt.hist(residuals.T, 100)"
   ]
  },
  {
   "cell_type": "markdown",
   "metadata": {},
   "source": [
    "- The histogram for the mse appears almost identical to the histogram of the original amplitudes. \n",
    "- There appears to be some outlying large residuals which could be caused by sudden changes in amplitude"
   ]
  },
  {
   "cell_type": "markdown",
   "metadata": {},
   "source": [
    "# Q5"
   ]
  },
  {
   "cell_type": "markdown",
   "metadata": {},
   "source": [
    "- To predict point n, instead of using the interval (n-21, n-1), use the interval (n-10, n+10) omitting the point n. This could give a much better prediction of point n.\n",
    "- Using regularization could help the polynomial functions (K > 2) predict better than the linear fit (K = 2)"
   ]
  },
  {
   "cell_type": "code",
   "execution_count": null,
   "metadata": {
    "collapsed": true
   },
   "outputs": [],
   "source": []
  }
 ],
 "metadata": {
  "kernelspec": {
   "display_name": "Python 2",
   "language": "python",
   "name": "python2"
  },
  "language_info": {
   "codemirror_mode": {
    "name": "ipython",
    "version": 2
   },
   "file_extension": ".py",
   "mimetype": "text/x-python",
   "name": "python",
   "nbconvert_exporter": "python",
   "pygments_lexer": "ipython2",
   "version": "2.7.11"
  }
 },
 "nbformat": 4,
 "nbformat_minor": 0
}
