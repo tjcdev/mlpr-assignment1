{
 "cells": [
  {
   "cell_type": "code",
   "execution_count": 1,
   "metadata": {
    "collapsed": true
   },
   "outputs": [],
   "source": [
    "%matplotlib inline\n",
    "import matplotlib.pyplot as plt\n",
    "import numpy as np\n",
    "import scipy.io as sci\n",
    "from numpy.linalg import inv"
   ]
  },
  {
   "cell_type": "markdown",
   "metadata": {},
   "source": [
    "### Load the data"
   ]
  },
  {
   "cell_type": "code",
   "execution_count": 2,
   "metadata": {
    "collapsed": false
   },
   "outputs": [],
   "source": [
    "audio = sci.loadmat(\"amp_data.mat\", squeeze_me=False)"
   ]
  },
  {
   "cell_type": "code",
   "execution_count": 3,
   "metadata": {
    "collapsed": false
   },
   "outputs": [
    {
     "data": {
      "text/plain": [
       "numpy.ndarray"
      ]
     },
     "execution_count": 3,
     "metadata": {},
     "output_type": "execute_result"
    }
   ],
   "source": [
    "audio = np.array(audio['amp_data'])\n",
    "type(audio)"
   ]
  },
  {
   "cell_type": "code",
   "execution_count": 4,
   "metadata": {
    "collapsed": false
   },
   "outputs": [
    {
     "data": {
      "text/plain": [
       "(33713280, 1)"
      ]
     },
     "execution_count": 4,
     "metadata": {},
     "output_type": "execute_result"
    }
   ],
   "source": [
    "audio.shape"
   ]
  },
  {
   "cell_type": "markdown",
   "metadata": {},
   "source": [
    "# Q1"
   ]
  },
  {
   "cell_type": "markdown",
   "metadata": {},
   "source": [
    "# a)"
   ]
  },
  {
   "cell_type": "markdown",
   "metadata": {},
   "source": [
    "### Plot a line graph of data"
   ]
  },
  {
   "cell_type": "code",
   "execution_count": 5,
   "metadata": {
    "collapsed": false
   },
   "outputs": [
    {
     "data": {
      "text/plain": [
       "[<matplotlib.lines.Line2D at 0x103da4d50>]"
      ]
     },
     "execution_count": 5,
     "metadata": {},
     "output_type": "execute_result"
    },
    {
     "data": {
      "image/png": "[encoded data removed]",
      "text/plain": [
       "<matplotlib.figure.Figure at 0x10406be90>"
      ]
     },
     "metadata": {},
     "output_type": "display_data"
    }
   ],
   "source": [
    "plt.plot(audio)"
   ]
  },
  {
   "cell_type": "markdown",
   "metadata": {},
   "source": [
    "### Plot histogram of data"
   ]
  },
  {
   "cell_type": "code",
   "execution_count": 6,
   "metadata": {
    "collapsed": false
   },
   "outputs": [
    {
     "data": {
      "image/png": "[encoded data removed]",
      "text/plain": [
       "<matplotlib.figure.Figure at 0x112fddfd0>"
      ]
     },
     "metadata": {},
     "output_type": "display_data"
    }
   ],
   "source": [
    "bins = plt.hist(audio, 100)"
   ]
  },
  {
   "cell_type": "markdown",
   "metadata": {},
   "source": [
    "# b)"
   ]
  },
  {
   "cell_type": "markdown",
   "metadata": {},
   "source": [
    "### Generate the matrix"
   ]
  },
  {
   "cell_type": "code",
   "execution_count": 7,
   "metadata": {
    "collapsed": false
   },
   "outputs": [
    {
     "name": "stdout",
     "output_type": "stream",
     "text": [
      "6\n"
     ]
    }
   ],
   "source": [
    "C = len(audio) // 21\n",
    "throw_away = len(audio) % 21\n",
    "print throw_away\n",
    "audio = audio[:-throw_away]\n",
    "audio = audio.reshape(C, 21)"
   ]
  },
  {
   "cell_type": "code",
   "execution_count": 9,
   "metadata": {
    "collapsed": false
   },
   "outputs": [
    {
     "name": "stdout",
     "output_type": "stream",
     "text": [
      "[  0.00000000e+00  -3.05175781e-05   6.10351562e-05  -6.10351562e-05\n",
      "   6.10351562e-05  -6.10351562e-05   0.00000000e+00   6.10351562e-05\n",
      "  -9.15527344e-05   1.22070312e-04  -1.22070312e-04   9.15527344e-05\n",
      "  -3.05175781e-05  -3.05175781e-05   6.10351562e-05  -6.10351562e-05\n",
      "   6.10351562e-05  -6.10351562e-05   6.10351562e-05  -6.10351562e-05\n",
      "   6.10351562e-05]\n"
     ]
    }
   ],
   "source": [
    "audio.shape\n",
    "print audio[0, :]"
   ]
  },
  {
   "cell_type": "markdown",
   "metadata": {},
   "source": [
    "### Randomly shuffle the rows of the matrix"
   ]
  },
  {
   "cell_type": "code",
   "execution_count": 10,
   "metadata": {
    "collapsed": false
   },
   "outputs": [],
   "source": [
    "np.random.seed(0)\n",
    "np.random.shuffle(audio)"
   ]
  },
  {
   "cell_type": "markdown",
   "metadata": {
    "collapsed": false
   },
   "source": [
    "### Split into training, test and validation sets"
   ]
  },
  {
   "cell_type": "code",
   "execution_count": 11,
   "metadata": {
    "collapsed": false
   },
   "outputs": [
    {
     "name": "stdout",
     "output_type": "stream",
     "text": [
      "1123775\n",
      "240809\n",
      "240810\n"
     ]
    }
   ],
   "source": [
    "train_size = int(np.floor(0.7 * C))\n",
    "val_size = int(np.floor(0.15 * C))\n",
    "test_size = int(C - train_size - val_size)\n",
    "print train_size\n",
    "print val_size\n",
    "print test_size"
   ]
  },
  {
   "cell_type": "code",
   "execution_count": 12,
   "metadata": {
    "collapsed": false
   },
   "outputs": [
    {
     "data": {
      "text/plain": [
       "(1123775, 21)"
      ]
     },
     "execution_count": 12,
     "metadata": {},
     "output_type": "execute_result"
    }
   ],
   "source": [
    "train_set = audio[0:train_size]\n",
    "train_set.shape"
   ]
  },
  {
   "cell_type": "code",
   "execution_count": 13,
   "metadata": {
    "collapsed": false
   },
   "outputs": [
    {
     "data": {
      "text/plain": [
       "(240809, 21)"
      ]
     },
     "execution_count": 13,
     "metadata": {},
     "output_type": "execute_result"
    }
   ],
   "source": [
    "test_set = audio[train_size+1:train_size+test_size]\n",
    "test_set.shape"
   ]
  },
  {
   "cell_type": "code",
   "execution_count": 14,
   "metadata": {
    "collapsed": false
   },
   "outputs": [
    {
     "data": {
      "text/plain": [
       "(240808, 21)"
      ]
     },
     "execution_count": 14,
     "metadata": {},
     "output_type": "execute_result"
    }
   ],
   "source": [
    "val_set = audio[train_size+test_size+1:]\n",
    "val_set.shape"
   ]
  },
  {
   "cell_type": "markdown",
   "metadata": {},
   "source": [
    "### Training"
   ]
  },
  {
   "cell_type": "code",
   "execution_count": 15,
   "metadata": {
    "collapsed": false
   },
   "outputs": [
    {
     "data": {
      "text/plain": [
       "(1123775, 20)"
      ]
     },
     "execution_count": 15,
     "metadata": {},
     "output_type": "execute_result"
    }
   ],
   "source": [
    "X_shuf_train = train_set[:, :20]\n",
    "X_shuf_train.shape"
   ]
  },
  {
   "cell_type": "code",
   "execution_count": 16,
   "metadata": {
    "collapsed": false
   },
   "outputs": [
    {
     "data": {
      "text/plain": [
       "(1123775, 1)"
      ]
     },
     "execution_count": 16,
     "metadata": {},
     "output_type": "execute_result"
    }
   ],
   "source": [
    "y_shuf_train = train_set[:, 20:21]\n",
    "y_shuf_train.shape"
   ]
  },
  {
   "cell_type": "markdown",
   "metadata": {},
   "source": [
    "### Validation"
   ]
  },
  {
   "cell_type": "code",
   "execution_count": 17,
   "metadata": {
    "collapsed": false
   },
   "outputs": [
    {
     "data": {
      "text/plain": [
       "(240808, 20)"
      ]
     },
     "execution_count": 17,
     "metadata": {},
     "output_type": "execute_result"
    }
   ],
   "source": [
    "X_shuf_val = val_set[:, :20]\n",
    "X_shuf_val.shape"
   ]
  },
  {
   "cell_type": "code",
   "execution_count": 18,
   "metadata": {
    "collapsed": false
   },
   "outputs": [
    {
     "data": {
      "text/plain": [
       "(240808, 1)"
      ]
     },
     "execution_count": 18,
     "metadata": {},
     "output_type": "execute_result"
    }
   ],
   "source": [
    "y_shuf_val = val_set[:, 20:21]\n",
    "y_shuf_val.shape"
   ]
  },
  {
   "cell_type": "markdown",
   "metadata": {},
   "source": [
    "### Test"
   ]
  },
  {
   "cell_type": "code",
   "execution_count": 19,
   "metadata": {
    "collapsed": false
   },
   "outputs": [
    {
     "data": {
      "text/plain": [
       "(240809, 20)"
      ]
     },
     "execution_count": 19,
     "metadata": {},
     "output_type": "execute_result"
    }
   ],
   "source": [
    "X_shuf_test = test_set[:, :20]\n",
    "X_shuf_test.shape"
   ]
  },
  {
   "cell_type": "code",
   "execution_count": 20,
   "metadata": {
    "collapsed": false
   },
   "outputs": [
    {
     "data": {
      "text/plain": [
       "(240809, 1)"
      ]
     },
     "execution_count": 20,
     "metadata": {},
     "output_type": "execute_result"
    }
   ],
   "source": [
    "y_shuf_test = test_set[:, 20:21]\n",
    "y_shuf_test.shape"
   ]
  },
  {
   "cell_type": "markdown",
   "metadata": {
    "collapsed": true
   },
   "source": [
    "# Q2"
   ]
  },
  {
   "cell_type": "markdown",
   "metadata": {},
   "source": [
    "### Plot one row of X_shuf_train"
   ]
  },
  {
   "cell_type": "code",
   "execution_count": 21,
   "metadata": {
    "collapsed": false
   },
   "outputs": [
    {
     "data": {
      "text/plain": [
       "array([ 0.  ,  0.05,  0.1 ,  0.15,  0.2 ,  0.25,  0.3 ,  0.35,  0.4 ,\n",
       "        0.45,  0.5 ,  0.55,  0.6 ,  0.65,  0.7 ,  0.75,  0.8 ,  0.85,\n",
       "        0.9 ,  0.95])"
      ]
     },
     "execution_count": 21,
     "metadata": {},
     "output_type": "execute_result"
    }
   ],
   "source": [
    "# TODO: use linspace\n",
    "x_ticks = np.array([round(x/float(20), 2) for x in range(0, 20)])\n",
    "x_ticks"
   ]
  },
  {
   "cell_type": "code",
   "execution_count": 22,
   "metadata": {
    "collapsed": false
   },
   "outputs": [
    {
     "data": {
      "text/plain": [
       "796925"
      ]
     },
     "execution_count": 22,
     "metadata": {},
     "output_type": "execute_result"
    }
   ],
   "source": [
    "row_number = np.random.randint(0, X_shuf_train.shape[0])\n",
    "row_number"
   ]
  },
  {
   "cell_type": "code",
   "execution_count": 23,
   "metadata": {
    "collapsed": false
   },
   "outputs": [
    {
     "data": {
      "image/png": "[encoded data removed]",
      "text/plain": [
       "<matplotlib.figure.Figure at 0x116a90f90>"
      ]
     },
     "metadata": {},
     "output_type": "display_data"
    }
   ],
   "source": [
    "X_shuf_train_row = X_shuf_train[row_number, :]\n",
    "plt.plot(x_ticks, X_shuf_train_row, 'bx')\n",
    "plt.plot([1], y_shuf_train[row_number, :], 'rx')\n",
    "plt.show()"
   ]
  },
  {
   "cell_type": "markdown",
   "metadata": {},
   "source": [
    "### Fit Straight Line Through Points"
   ]
  },
  {
   "cell_type": "code",
   "execution_count": 24,
   "metadata": {
    "collapsed": true
   },
   "outputs": [],
   "source": [
    "def phi_linear(Xin):\n",
    "    return np.array([np.ones(len(Xin)), Xin]).T"
   ]
  },
  {
   "cell_type": "code",
   "execution_count": 25,
   "metadata": {
    "collapsed": false
   },
   "outputs": [
    {
     "data": {
      "image/png": "[encoded data removed]",
      "text/plain": [
       "<matplotlib.figure.Figure at 0x116a83bd0>"
      ]
     },
     "metadata": {},
     "output_type": "display_data"
    }
   ],
   "source": [
    "w_fit = np.linalg.lstsq(phi_linear(x_ticks), X_shuf_train_row)[0]\n",
    "line = np.dot(phi_linear(x_ticks), w_fit)\n",
    "plt.plot(x_ticks, X_shuf_train_row, 'bx')\n",
    "plt.plot(x_ticks, line, 'r-')\n",
    "plt.show()"
   ]
  },
  {
   "cell_type": "markdown",
   "metadata": {},
   "source": [
    "### Fit Polynomial"
   ]
  },
  {
   "cell_type": "code",
   "execution_count": 26,
   "metadata": {
    "collapsed": true
   },
   "outputs": [],
   "source": [
    "def phi_poly(Xin):\n",
    "    return np.array([np.ones(len(Xin)), Xin, Xin**2, Xin**3, Xin**4]).T"
   ]
  },
  {
   "cell_type": "code",
   "execution_count": 27,
   "metadata": {
    "collapsed": false
   },
   "outputs": [
    {
     "data": {
      "image/png": "[encoded data removed]",
      "text/plain": [
       "<matplotlib.figure.Figure at 0x116a63e50>"
      ]
     },
     "metadata": {},
     "output_type": "display_data"
    }
   ],
   "source": [
    "poly_ticks = np.append(x_ticks, [1])\n",
    "w_fit = np.linalg.lstsq(phi_poly(x_ticks), X_shuf_train_row)[0]\n",
    "poly_line = np.dot(phi_poly(poly_ticks), w_fit)\n",
    "plt.plot(x_ticks, X_shuf_train_row, 'bx')\n",
    "plt.plot(poly_ticks, poly_line, 'r-')\n",
    "plt.show()"
   ]
  },
  {
   "cell_type": "markdown",
   "metadata": {
    "collapsed": true
   },
   "source": [
    "### Side Note: Function that does everything in one"
   ]
  },
  {
   "cell_type": "code",
   "execution_count": 237,
   "metadata": {
    "collapsed": true
   },
   "outputs": [],
   "source": [
    "def predict_and_plot_random_row(row_number):\n",
    "    X_shuf_train_row = X_shuf_train[row_number, :]\n",
    "    poly_ticks = np.append(x_ticks, [1])\n",
    "    w_fit = np.linalg.lstsq(phi_poly(x_ticks), X_shuf_train_row)[0]\n",
    "    poly_line = np.dot(phi_poly(poly_ticks), w_fit)\n",
    "    plt.plot(x_ticks, X_shuf_train_row, 'bx')\n",
    "    plt.plot(poly_ticks, poly_line, 'r-')\n",
    "    plt.show()"
   ]
  },
  {
   "cell_type": "markdown",
   "metadata": {
    "collapsed": true
   },
   "source": [
    "# Q3"
   ]
  },
  {
   "cell_type": "markdown",
   "metadata": {
    "collapsed": true
   },
   "source": [
    "### b) i)"
   ]
  },
  {
   "cell_type": "code",
   "execution_count": 28,
   "metadata": {
    "collapsed": true
   },
   "outputs": [],
   "source": [
    "def row_constructor(c, K):\n",
    "    return np.array([c**i for i in range(0, K)])"
   ]
  },
  {
   "cell_type": "code",
   "execution_count": 29,
   "metadata": {
    "collapsed": false
   },
   "outputs": [],
   "source": [
    "def Phi(C, K):\n",
    "    t_values = np.linspace((19-C+1)/float(20), 19/float(20), C)\n",
    "    return np.array([row_constructor(i, K) for i in t_values])"
   ]
  },
  {
   "cell_type": "code",
   "execution_count": 30,
   "metadata": {
    "collapsed": false
   },
   "outputs": [
    {
     "data": {
      "text/plain": [
       "array([[ 1.  ,  0.  ],\n",
       "       [ 1.  ,  0.05],\n",
       "       [ 1.  ,  0.1 ],\n",
       "       [ 1.  ,  0.15],\n",
       "       [ 1.  ,  0.2 ],\n",
       "       [ 1.  ,  0.25],\n",
       "       [ 1.  ,  0.3 ],\n",
       "       [ 1.  ,  0.35],\n",
       "       [ 1.  ,  0.4 ],\n",
       "       [ 1.  ,  0.45],\n",
       "       [ 1.  ,  0.5 ],\n",
       "       [ 1.  ,  0.55],\n",
       "       [ 1.  ,  0.6 ],\n",
       "       [ 1.  ,  0.65],\n",
       "       [ 1.  ,  0.7 ],\n",
       "       [ 1.  ,  0.75],\n",
       "       [ 1.  ,  0.8 ],\n",
       "       [ 1.  ,  0.85],\n",
       "       [ 1.  ,  0.9 ],\n",
       "       [ 1.  ,  0.95]])"
      ]
     },
     "execution_count": 30,
     "metadata": {},
     "output_type": "execute_result"
    }
   ],
   "source": [
    "Phi(20, 2)"
   ]
  },
  {
   "cell_type": "markdown",
   "metadata": {},
   "source": [
    "### ii)"
   ]
  },
  {
   "cell_type": "code",
   "execution_count": 31,
   "metadata": {
    "collapsed": true
   },
   "outputs": [],
   "source": [
    "def make_vv(C, K):\n",
    "    phi_1 = row_constructor(1, K).T\n",
    "    phi = Phi(C, K)\n",
    "    return np.array([phi_1.T.dot(inv(phi.T.dot(phi))).dot(phi.T)])"
   ]
  },
  {
   "cell_type": "code",
   "execution_count": 32,
   "metadata": {
    "collapsed": false
   },
   "outputs": [
    {
     "data": {
      "text/plain": [
       "array([[ 1.23022461, -2.75805664,  3.21118164]])"
      ]
     },
     "execution_count": 32,
     "metadata": {},
     "output_type": "execute_result"
    }
   ],
   "source": [
    "make_vv(3, 4)"
   ]
  },
  {
   "cell_type": "markdown",
   "metadata": {},
   "source": [
    "### iii)"
   ]
  },
  {
   "cell_type": "markdown",
   "metadata": {},
   "source": [
    "#### Phi Predictions"
   ]
  },
  {
   "cell_type": "code",
   "execution_count": 33,
   "metadata": {
    "collapsed": false
   },
   "outputs": [],
   "source": [
    "linear_vv = make_vv(20, 2)\n",
    "quart_vv = make_vv(20, 5)"
   ]
  },
  {
   "cell_type": "code",
   "execution_count": 34,
   "metadata": {
    "collapsed": true
   },
   "outputs": [],
   "source": [
    "row_number = np.random.randint(0, X_shuf_train.shape[0])\n",
    "training_row = X_shuf_train[row_number, :]"
   ]
  },
  {
   "cell_type": "code",
   "execution_count": 35,
   "metadata": {
    "collapsed": false
   },
   "outputs": [
    {
     "name": "stdout",
     "output_type": "stream",
     "text": [
      "[ 0.05725708]\n",
      "[ 0.00791362]\n"
     ]
    }
   ],
   "source": [
    "linear_vv_y = linear_vv.dot(training_row.T)\n",
    "quart_vv_y = quart_vv.dot(training_row.T)\n",
    "print linear_vv_y\n",
    "print quart_vv_y"
   ]
  },
  {
   "cell_type": "markdown",
   "metadata": {},
   "source": [
    "#### (q2) old code on new data "
   ]
  },
  {
   "cell_type": "code",
   "execution_count": 36,
   "metadata": {
    "collapsed": false
   },
   "outputs": [],
   "source": [
    "x_ticks = np.array([round(x/float(20), 2) for x in range(0, 20)])\n",
    "poly_ticks = np.append(x_ticks, [1])\n",
    "\n",
    "linear_fit_y = np.linalg.lstsq(phi_linear(x_ticks), training_row)[0]\n",
    "linear_line_y = np.dot(phi_linear(poly_ticks), linear_fit_y)\n",
    "\n",
    "quart_fit_y = np.linalg.lstsq(phi_poly(x_ticks), training_row)[0]\n",
    "quart_line_y = np.dot(phi_poly(poly_ticks), quart_fit_y)"
   ]
  },
  {
   "cell_type": "code",
   "execution_count": 37,
   "metadata": {
    "collapsed": false
   },
   "outputs": [
    {
     "name": "stdout",
     "output_type": "stream",
     "text": [
      "[ 0.05725708]\n",
      "[ 0.00791362]\n"
     ]
    }
   ],
   "source": [
    "print linear_line_y[20:]\n",
    "print quart_line_y[20:]"
   ]
  },
  {
   "cell_type": "markdown",
   "metadata": {},
   "source": [
    "### c)"
   ]
  },
  {
   "cell_type": "markdown",
   "metadata": {},
   "source": [
    "### i)"
   ]
  },
  {
   "cell_type": "code",
   "execution_count": 38,
   "metadata": {
    "collapsed": true
   },
   "outputs": [],
   "source": [
    "def least_sum_of_squares(vv, training_row):\n",
    "    y_prediction = vv.dot(training_row.T)\n",
    "    return y_prediction"
   ]
  },
  {
   "cell_type": "code",
   "execution_count": 45,
   "metadata": {
    "collapsed": false
   },
   "outputs": [],
   "source": [
    "min_lss = 1000\n",
    "min_C = 0\n",
    "min_K = 0\n",
    "\n",
    "training_rows = []\n",
    "random_rows = np.random.randint(X_shuf_train.shape[0], size=3000)\n",
    "training_rows = X_shuf_train[random_rows,:]"
   ]
  },
  {
   "cell_type": "code",
   "execution_count": 47,
   "metadata": {
    "collapsed": false
   },
   "outputs": [],
   "source": [
    "for C in range(2, 20):\n",
    "    for K in range(1, 21):\n",
    "        #Generate our matrix for C and K\n",
    "        vv = make_vv(C, K)\n",
    "        lss = np.array([])\n",
    "        #Loop through 10 different training rows\n",
    "        for i in range(0, 3000):\n",
    "            row = np.array(training_rows[i])\n",
    "            #Generate a new training row to evaluate\n",
    "            training_row = row[len(row)-C:]\n",
    "            lss = np.append(lss, [least_sum_of_squares(vv, training_row)])\n",
    "        if (np.mean(lss) < min_lss):\n",
    "            min_C = C\n",
    "            min_K = K\n",
    "            min_lss = np.mean(lss)"
   ]
  },
  {
   "cell_type": "code",
   "execution_count": 318,
   "metadata": {
    "collapsed": false
   },
   "outputs": [
    {
     "data": {
      "text/plain": [
       "10"
      ]
     },
     "execution_count": 318,
     "metadata": {},
     "output_type": "execute_result"
    }
   ],
   "source": [
    "min_C"
   ]
  },
  {
   "cell_type": "code",
   "execution_count": 319,
   "metadata": {
    "collapsed": false
   },
   "outputs": [
    {
     "data": {
      "text/plain": [
       "18"
      ]
     },
     "execution_count": 319,
     "metadata": {},
     "output_type": "execute_result"
    }
   ],
   "source": [
    "min_K"
   ]
  },
  {
   "cell_type": "code",
   "execution_count": null,
   "metadata": {
    "collapsed": true
   },
   "outputs": [],
   "source": []
  }
 ],
 "metadata": {
  "kernelspec": {
   "display_name": "Python 2",
   "language": "python",
   "name": "python2"
  },
  "language_info": {
   "codemirror_mode": {
    "name": "ipython",
    "version": 2
   },
   "file_extension": ".py",
   "mimetype": "text/x-python",
   "name": "python",
   "nbconvert_exporter": "python",
   "pygments_lexer": "ipython2",
   "version": "2.7.11"
  }
 },
 "nbformat": 4,
 "nbformat_minor": 0
}
