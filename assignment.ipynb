{
 "cells": [
  {
   "cell_type": "code",
   "execution_count": 1,
   "metadata": {
    "collapsed": true
   },
   "outputs": [],
   "source": [
    "%matplotlib inline\n",
    "import matplotlib.pyplot as plt\n",
    "import numpy as np\n",
    "import scipy.io as sci\n",
    "from numpy.linalg import inv"
   ]
  },
  {
   "cell_type": "markdown",
   "metadata": {},
   "source": [
    "### Load the data"
   ]
  },
  {
   "cell_type": "code",
   "execution_count": 2,
   "metadata": {
    "collapsed": false
   },
   "outputs": [],
   "source": [
    "audio = sci.loadmat(\"amp_data.mat\", squeeze_me=False)"
   ]
  },
  {
   "cell_type": "code",
   "execution_count": null,
   "metadata": {
    "collapsed": false
   },
   "outputs": [],
   "source": [
    "audio = np.array(audio['amp_data'])"
   ]
  },
  {
   "cell_type": "markdown",
   "metadata": {},
   "source": [
    "# Q1"
   ]
  },
  {
   "cell_type": "markdown",
   "metadata": {},
   "source": [
    "# a)"
   ]
  },
  {
   "cell_type": "markdown",
   "metadata": {},
   "source": [
    "### Plot a line graph of data"
   ]
  },
  {
   "cell_type": "code",
   "execution_count": null,
   "metadata": {
    "collapsed": false
   },
   "outputs": [
    {
     "data": {
      "text/plain": [
       "[<matplotlib.lines.Line2D at 0x103ee5090>]"
      ]
     },
     "execution_count": 4,
     "metadata": {},
     "output_type": "execute_result"
    }
   ],
   "source": [
    "plt.plot(audio)"
   ]
  },
  {
   "cell_type": "markdown",
   "metadata": {},
   "source": [
    "### Plot histogram of data"
   ]
  },
  {
   "cell_type": "code",
   "execution_count": null,
   "metadata": {
    "collapsed": false
   },
   "outputs": [],
   "source": [
    "bins = plt.hist(audio, 100)"
   ]
  },
  {
   "cell_type": "markdown",
   "metadata": {},
   "source": [
    "- The histogram shows that the amplitudes are similar to a Normal distribution with mean 0.\n",
    "- There is possibly some noise (pun intended) in the data as exhibited by extreme values.\n",
    "- It has a low variance shown by having such short tails.\n"
   ]
  },
  {
   "cell_type": "markdown",
   "metadata": {},
   "source": [
    "# b)"
   ]
  },
  {
   "cell_type": "markdown",
   "metadata": {},
   "source": [
    "### Generate the matrix"
   ]
  },
  {
   "cell_type": "code",
   "execution_count": null,
   "metadata": {
    "collapsed": false
   },
   "outputs": [],
   "source": [
    "C = len(audio) // 21\n",
    "throw_away = len(audio) % 21\n",
    "audio = audio[:-throw_away]\n",
    "audio = audio.reshape(C, 21)"
   ]
  },
  {
   "cell_type": "markdown",
   "metadata": {},
   "source": [
    "### Randomly shuffle the rows of the matrix"
   ]
  },
  {
   "cell_type": "code",
   "execution_count": null,
   "metadata": {
    "collapsed": false
   },
   "outputs": [],
   "source": [
    "np.random.seed(0)\n",
    "np.random.shuffle(audio)"
   ]
  },
  {
   "cell_type": "markdown",
   "metadata": {
    "collapsed": false
   },
   "source": [
    "### Split into training, test and validation sets"
   ]
  },
  {
   "cell_type": "code",
   "execution_count": null,
   "metadata": {
    "collapsed": false
   },
   "outputs": [],
   "source": [
    "train_size = int(np.floor(0.7 * C))\n",
    "val_size = int(np.floor(0.15 * C))\n",
    "test_size = int(C - train_size - val_size)"
   ]
  },
  {
   "cell_type": "code",
   "execution_count": null,
   "metadata": {
    "collapsed": false
   },
   "outputs": [],
   "source": [
    "train_set = audio[0:train_size]"
   ]
  },
  {
   "cell_type": "code",
   "execution_count": null,
   "metadata": {
    "collapsed": false
   },
   "outputs": [],
   "source": [
    "test_set = audio[train_size+1:train_size+test_size]"
   ]
  },
  {
   "cell_type": "code",
   "execution_count": null,
   "metadata": {
    "collapsed": false
   },
   "outputs": [],
   "source": [
    "val_set = audio[train_size+test_size+1:]"
   ]
  },
  {
   "cell_type": "markdown",
   "metadata": {},
   "source": [
    "### Training"
   ]
  },
  {
   "cell_type": "code",
   "execution_count": null,
   "metadata": {
    "collapsed": false
   },
   "outputs": [],
   "source": [
    "X_shuf_train = train_set[:, :20]"
   ]
  },
  {
   "cell_type": "code",
   "execution_count": null,
   "metadata": {
    "collapsed": false
   },
   "outputs": [],
   "source": [
    "y_shuf_train = train_set[:, 20:21]"
   ]
  },
  {
   "cell_type": "markdown",
   "metadata": {},
   "source": [
    "### Validation"
   ]
  },
  {
   "cell_type": "code",
   "execution_count": null,
   "metadata": {
    "collapsed": false
   },
   "outputs": [],
   "source": [
    "X_shuf_val = val_set[:, :20]"
   ]
  },
  {
   "cell_type": "code",
   "execution_count": null,
   "metadata": {
    "collapsed": false
   },
   "outputs": [],
   "source": [
    "y_shuf_val = val_set[:, 20:21]"
   ]
  },
  {
   "cell_type": "markdown",
   "metadata": {},
   "source": [
    "### Test"
   ]
  },
  {
   "cell_type": "code",
   "execution_count": null,
   "metadata": {
    "collapsed": false
   },
   "outputs": [],
   "source": [
    "X_shuf_test = test_set[:, :20]"
   ]
  },
  {
   "cell_type": "code",
   "execution_count": null,
   "metadata": {
    "collapsed": false
   },
   "outputs": [],
   "source": [
    "y_shuf_test = test_set[:, 20:21]"
   ]
  },
  {
   "cell_type": "markdown",
   "metadata": {
    "collapsed": true
   },
   "source": [
    "# Q2"
   ]
  },
  {
   "cell_type": "markdown",
   "metadata": {},
   "source": [
    "### a) Straight Line and Quartic Fit"
   ]
  },
  {
   "cell_type": "code",
   "execution_count": null,
   "metadata": {
    "collapsed": true
   },
   "outputs": [],
   "source": [
    "def phi_linear(Xin):\n",
    "    return np.array([np.ones(len(Xin)), Xin]).T\n",
    "\n",
    "def phi_poly(Xin):\n",
    "    return np.array([np.ones(len(Xin)), Xin, Xin**2, Xin**3, Xin**4]).T"
   ]
  },
  {
   "cell_type": "code",
   "execution_count": null,
   "metadata": {
    "collapsed": false
   },
   "outputs": [],
   "source": [
    "x_ticks = np.array([round(x/float(20), 2) for x in range(0, 20)])\n",
    "poly_ticks = np.append(x_ticks, [1])\n",
    "\n",
    "row_number = np.random.randint(0, X_shuf_train.shape[0])\n",
    "\n",
    "plt.plot(x_ticks, X_shuf_train[row_number, :], 'bx')\n",
    "\n",
    "linear_fit = np.linalg.lstsq(phi_linear(x_ticks), X_shuf_train[row_number, :])[0]\n",
    "line = np.dot(phi_linear(poly_ticks), linear_fit)\n",
    "plt.plot(poly_ticks, line, 'r-')\n",
    "\n",
    "quar_fit = np.linalg.lstsq(phi_poly(x_ticks), X_shuf_train[row_number, :])[0]\n",
    "poly_line = np.dot(phi_poly(poly_ticks), quar_fit)\n",
    "plt.plot(poly_ticks, poly_line, 'g-')\n",
    "\n",
    "plt.plot([1], y_shuf_train[row_number, :], 'ro', mew=1, ms=10)\n",
    "\n",
    "plt.show()"
   ]
  },
  {
   "cell_type": "markdown",
   "metadata": {},
   "source": [
    "## b)"
   ]
  },
  {
   "cell_type": "markdown",
   "metadata": {},
   "source": [
    "A linear fit on the last two points could be better because the curve is continuous and the gradient of the curve changes slowly. Therefore the gradient of the line between points (n-2) and (n-1) will be very similar to the gradient of the line between (n-1) and n (n being the point we are predicting).\n",
    "\n",
    "Using the linear fit across all 20 points averages the gradient across all points and therefore it doesn't closely fit gradient of the line between (n-1) and n.\n",
    "\n",
    "Inspecting the data we can see that the rows of our matrix form many different shaped curves. Therefore the quartic model is better because its gradient can alternate between positive and negative values to better fit the non-linear curves displayed by the points.\n",
    "\n"
   ]
  },
  {
   "cell_type": "markdown",
   "metadata": {},
   "source": [
    "### c)"
   ]
  },
  {
   "cell_type": "markdown",
   "metadata": {},
   "source": [
    "Judging by the graphs drawn above we would predict that a quartic fit with context length ~20 would be best at predicting the 21st point. A higher order polynomial might overfit the data and a lower order polynomial might not closely fit the varying amplitudes."
   ]
  },
  {
   "cell_type": "markdown",
   "metadata": {},
   "source": [
    "# Q3"
   ]
  },
  {
   "cell_type": "markdown",
   "metadata": {},
   "source": [
    "### a)"
   ]
  },
  {
   "cell_type": "code",
   "execution_count": null,
   "metadata": {
    "collapsed": false
   },
   "outputs": [],
   "source": [
    "%%latex\n",
    "Due to dimensionality analysis,\n",
    "<br>\n",
    "$f(t=1) = (f(t=1))^{T} = [((\\pmb{\\Phi}^{T}\\pmb{\\Phi})^{-1}\\pmb{\\Phi}^{T}\\textbf{x})\\pmb{\\phi}(t=1)]^{T}$\n",
    "<br>\n",
    "<br>\n",
    "And therefore,\n",
    "<br>\n",
    "$f(t=1) = \\pmb{\\phi}^{T}(t=1)(\\pmb{\\Phi}^{T}\\pmb{\\Phi})^{-1}\\pmb{\\Phi}^{T}\\textbf{x}$\n",
    "<br>\n",
    "<br>\n",
    "By comparing to $f(t=1) = \\textbf{v}^{T}\\textbf{x}$, we obtain,\n",
    "<br>\n",
    "$\\textbf{v}^{T} = \\pmb{\\phi}^{T}(t=1)(\\pmb{\\Phi}^{T}\\pmb{\\Phi})^{-1}\\pmb{\\Phi}^{T}$\n",
    "<br>\n",
    "<br>\n",
    "And consequently,\n",
    "<br>\n",
    "$\\textbf{v} = \\pmb{\\Phi}(\\pmb{\\Phi}^{T}\\pmb{\\Phi})^{-T}\\pmb{\\phi}(t=1)$."
   ]
  },
  {
   "cell_type": "markdown",
   "metadata": {
    "collapsed": true
   },
   "source": [
    "### b) i)"
   ]
  },
  {
   "cell_type": "code",
   "execution_count": null,
   "metadata": {
    "collapsed": false
   },
   "outputs": [],
   "source": [
    "def row_constructor(c, K):\n",
    "    return np.array([c**i for i in range(0, K)])\n",
    "\n",
    "def Phi(C, K):\n",
    "    t_values = np.linspace((19-C+1)/float(20), 19/float(20), C)\n",
    "    return np.array([row_constructor(i, K) for i in t_values])"
   ]
  },
  {
   "cell_type": "markdown",
   "metadata": {},
   "source": [
    "### ii)"
   ]
  },
  {
   "cell_type": "code",
   "execution_count": null,
   "metadata": {
    "collapsed": true
   },
   "outputs": [],
   "source": [
    "def make_vv(C, K):\n",
    "    phi_1 = row_constructor(1, K).T\n",
    "    phi = Phi(C, K)\n",
    "    return np.array([phi_1.T.dot(inv(phi.T.dot(phi))).dot(phi.T)])"
   ]
  },
  {
   "cell_type": "markdown",
   "metadata": {},
   "source": [
    "### iii)"
   ]
  },
  {
   "cell_type": "code",
   "execution_count": null,
   "metadata": {
    "collapsed": true
   },
   "outputs": [],
   "source": [
    "row_number = np.random.randint(0, X_shuf_train.shape[0])\n",
    "training_row = X_shuf_train[row_number, :]"
   ]
  },
  {
   "cell_type": "markdown",
   "metadata": {},
   "source": [
    "### Model using matrix VV"
   ]
  },
  {
   "cell_type": "code",
   "execution_count": null,
   "metadata": {
    "collapsed": false
   },
   "outputs": [],
   "source": [
    "linear_vv = make_vv(20, 2)\n",
    "quart_vv = make_vv(20, 5)\n",
    "\n",
    "linear_vv_y = linear_vv.dot(training_row.T)\n",
    "quart_vv_y = quart_vv.dot(training_row.T)"
   ]
  },
  {
   "cell_type": "markdown",
   "metadata": {},
   "source": [
    "### Model from Q2"
   ]
  },
  {
   "cell_type": "code",
   "execution_count": null,
   "metadata": {
    "collapsed": false
   },
   "outputs": [],
   "source": [
    "x_ticks = np.array([round(x/float(20), 2) for x in range(0, 20)])\n",
    "poly_ticks = np.append(x_ticks, [1])\n",
    "\n",
    "linear_fit_y = np.linalg.lstsq(phi_linear(x_ticks), training_row)[0]\n",
    "linear_line_y = np.dot(phi_linear(poly_ticks), linear_fit_y)\n",
    "\n",
    "quart_fit_y = np.linalg.lstsq(phi_poly(x_ticks), training_row)[0]\n",
    "quart_line_y = np.dot(phi_poly(poly_ticks), quart_fit_y)"
   ]
  },
  {
   "cell_type": "markdown",
   "metadata": {},
   "source": [
    "### Predictions"
   ]
  },
  {
   "cell_type": "code",
   "execution_count": null,
   "metadata": {
    "collapsed": false
   },
   "outputs": [],
   "source": [
    "print \"Prediction using VV for linear fit, \" + str(linear_vv_y)\n",
    "print \"Prediction using VV for quartic fit, \" + str(quart_vv_y)\n",
    "print \"Prediction using Q2 model for linear fit, \" + str(linear_line_y[20:])\n",
    "print \"Prediction using Q2 model for quartic fit, \" + str(quart_line_y[20:])"
   ]
  },
  {
   "cell_type": "markdown",
   "metadata": {},
   "source": [
    "### c)"
   ]
  },
  {
   "cell_type": "markdown",
   "metadata": {},
   "source": [
    "### i)"
   ]
  },
  {
   "cell_type": "code",
   "execution_count": null,
   "metadata": {
    "collapsed": true
   },
   "outputs": [],
   "source": [
    "def least_sum_of_squares(vv, rows, y_values):\n",
    "    y_prediction = vv.dot(rows.T)\n",
    "    return np.sum(np.power((y_prediction - y_values.T), 2))"
   ]
  },
  {
   "cell_type": "markdown",
   "metadata": {},
   "source": [
    "### Evaluate K and C by Least Sum of Squares"
   ]
  },
  {
   "cell_type": "code",
   "execution_count": null,
   "metadata": {
    "collapsed": false
   },
   "outputs": [],
   "source": [
    "training_rows = []\n",
    "random_rows = np.random.randint(X_shuf_train.shape[0], size=1000000)\n",
    "training_rows = X_shuf_train[random_rows,:]\n",
    "actual_y_values = y_shuf_train[random_rows, :]\n",
    "\n",
    "min_lss = 10000000\n",
    "min_C = 0\n",
    "min_K = 0\n",
    "\n",
    "for C in range(2, 20):\n",
    "    for K in range(1, 21):\n",
    "        #Generate our matrix for C and K\n",
    "        vv = make_vv(C, K)\n",
    "        lss = least_sum_of_squares(vv, training_rows[:, X_shuf_train.shape[1]-C:], actual_y_values)\n",
    "        \n",
    "        if (lss < min_lss):\n",
    "            min_C = C\n",
    "            min_K = K\n",
    "            min_lss = lss"
   ]
  },
  {
   "cell_type": "markdown",
   "metadata": {},
   "source": [
    "### Best settings for training set"
   ]
  },
  {
   "cell_type": "code",
   "execution_count": null,
   "metadata": {
    "collapsed": false
   },
   "outputs": [],
   "source": [
    "print \"The best setting for C on the training set is \" + str(min_C)\n",
    "print \"The best setting for K on the training set is \" + str(min_K)"
   ]
  },
  {
   "cell_type": "markdown",
   "metadata": {},
   "source": [
    "Therefore we should be using C=2 and K=2 for predicting our 21st point."
   ]
  },
  {
   "cell_type": "markdown",
   "metadata": {},
   "source": [
    "### ii)"
   ]
  },
  {
   "cell_type": "markdown",
   "metadata": {},
   "source": [
    "### Evaluate Model on Training, Validation and Test Set"
   ]
  },
  {
   "cell_type": "code",
   "execution_count": null,
   "metadata": {
    "collapsed": true
   },
   "outputs": [],
   "source": [
    "def mean_square_error(vv, rows, y_values):\n",
    "    y_prediction = vv.dot(rows.T)\n",
    "    return (1/float(rows.shape[0]))*np.sum(np.power((y_prediction - y_values.T), 2))"
   ]
  },
  {
   "cell_type": "code",
   "execution_count": null,
   "metadata": {
    "collapsed": true
   },
   "outputs": [],
   "source": [
    "def get_mean_square_error_from_set(rows, y_values):    \n",
    "    vv = make_vv(2, 2)\n",
    "    \n",
    "    min_mse = 10000000\n",
    "\n",
    "    mse = mean_square_error(vv, rows[:, rows.shape[1]-2:], y_values)\n",
    "\n",
    "    if (mse < min_mse):\n",
    "        min_mse = mse\n",
    "        \n",
    "    return min_mse"
   ]
  },
  {
   "cell_type": "markdown",
   "metadata": {},
   "source": [
    "### Train Set"
   ]
  },
  {
   "cell_type": "code",
   "execution_count": null,
   "metadata": {
    "collapsed": false
   },
   "outputs": [],
   "source": [
    "print \"The mean square error on the train set is: \" + str(get_mean_square_error_from_set(X_shuf_train, y_shuf_train))"
   ]
  },
  {
   "cell_type": "markdown",
   "metadata": {},
   "source": [
    "### Validation Set"
   ]
  },
  {
   "cell_type": "code",
   "execution_count": null,
   "metadata": {
    "collapsed": false
   },
   "outputs": [],
   "source": [
    "print \"The mean square error on the validation set is: \" + str(get_mean_square_error_from_set(X_shuf_val, y_shuf_val))"
   ]
  },
  {
   "cell_type": "markdown",
   "metadata": {},
   "source": [
    "### Test Set"
   ]
  },
  {
   "cell_type": "code",
   "execution_count": null,
   "metadata": {
    "collapsed": false
   },
   "outputs": [],
   "source": [
    "print \"The mean square error on the test set is: \" + str(get_mean_square_error_from_set(X_shuf_test, y_shuf_test))"
   ]
  },
  {
   "cell_type": "markdown",
   "metadata": {},
   "source": [
    "# Q4"
   ]
  },
  {
   "cell_type": "markdown",
   "metadata": {},
   "source": [
    "### a)"
   ]
  },
  {
   "cell_type": "markdown",
   "metadata": {},
   "source": [
    "### Evaluate different values of C for linear model"
   ]
  },
  {
   "cell_type": "code",
   "execution_count": null,
   "metadata": {
    "collapsed": true
   },
   "outputs": [],
   "source": [
    "def test_different_c_on_mse(rows, y_values):\n",
    "    min_mse = 10000000\n",
    "    min_C = 0\n",
    "    \n",
    "    for c in range(1, 20):\n",
    "        vv = make_vv(c, 2)\n",
    "        mse = mean_square_error(vv, rows[:, rows.shape[1]-c:], y_values)\n",
    "\n",
    "        if (mse < min_mse):\n",
    "            min_mse = mse\n",
    "            min_C = c\n",
    "    return (min_mse, min_C)"
   ]
  },
  {
   "cell_type": "markdown",
   "metadata": {},
   "source": [
    "##### Training Set"
   ]
  },
  {
   "cell_type": "code",
   "execution_count": null,
   "metadata": {
    "collapsed": false
   },
   "outputs": [],
   "source": [
    "(mse, C) = test_different_c_on_mse(X_shuf_train, y_shuf_train)\n",
    "print \"The mean square error of our best fitting model is \" + str(mse)\n",
    "print \"The best fitting linear model has value C=\" + str(C)"
   ]
  },
  {
   "cell_type": "markdown",
   "metadata": {},
   "source": [
    "##### Validation Set"
   ]
  },
  {
   "cell_type": "code",
   "execution_count": null,
   "metadata": {
    "collapsed": false
   },
   "outputs": [],
   "source": [
    "(mse, C) = test_different_c_on_mse(X_shuf_val, y_shuf_val)\n",
    "print \"The mean square error of our best fitting model is \" + str(mse)\n",
    "print \"The best fitting linear model has value C=\" + str(C)"
   ]
  },
  {
   "cell_type": "markdown",
   "metadata": {},
   "source": [
    "Why is this the case?\n",
    "\n",
    "- The difference in the gradient of the lines between every pair of data points, changes at a slow rate. Therefore a line between point (n-2) and (n-1) will likely closely predict point n. And so the line going through the 19th and 20th point will very likely pass closely to the 21st point, giving us a low mean square error."
   ]
  },
  {
   "cell_type": "markdown",
   "metadata": {},
   "source": [
    "### b)"
   ]
  },
  {
   "cell_type": "markdown",
   "metadata": {},
   "source": [
    "Comparing approaches:\n",
    "\n",
    "- Our approach from Q3 and Q4a) resulted in the same model and therefore their mean squared errors are the same."
   ]
  },
  {
   "cell_type": "markdown",
   "metadata": {},
   "source": [
    "### c)"
   ]
  },
  {
   "cell_type": "code",
   "execution_count": null,
   "metadata": {
    "collapsed": false
   },
   "outputs": [],
   "source": [
    "vv = make_vv(2, 2)\n",
    "y_prediction = vv.dot(X_shuf_val[:, X_shuf_val.shape[1]-2:].T)\n",
    "residuals = (y_prediction - y_shuf_val.T)"
   ]
  },
  {
   "cell_type": "code",
   "execution_count": null,
   "metadata": {
    "collapsed": false
   },
   "outputs": [],
   "source": [
    "residual_bins = plt.hist(residuals.T, 100)"
   ]
  },
  {
   "cell_type": "markdown",
   "metadata": {},
   "source": [
    "- The histogram for the mse appears almost identical to the histogram of the original amplitudes. \n",
    "- There appears to be some outlying large residuals which could be caused by sudden changes in amplitude"
   ]
  },
  {
   "cell_type": "markdown",
   "metadata": {},
   "source": [
    "# Q5"
   ]
  },
  {
   "cell_type": "markdown",
   "metadata": {},
   "source": [
    "- To predict point n, instead of using the interval (n-21, n-1), use the interval (n-10, n+10) omitting the point n. This could give a much better prediction of point n.\n",
    "- Using regularization could help the polynomial models (K > 2) have a lower M.S.E than the linear fit (K = 2)\n",
    "\n",
    "As exhibited in the below plot, the end behaviour of the quartic fit does not closely predict the final point of the data. Because having access to points on both sides of the 21st would allow a better fit for the 21st point."
   ]
  },
  {
   "cell_type": "code",
   "execution_count": null,
   "metadata": {
    "collapsed": false
   },
   "outputs": [],
   "source": [
    "x_ticks = np.array([round(x/float(20), 2) for x in range(0, 20)])\n",
    "poly_ticks = np.append(x_ticks, [1])\n",
    "\n",
    "row_number = np.random.randint(0, X_shuf_train.shape[0])\n",
    "\n",
    "plt.plot(x_ticks, X_shuf_train[row_number, :], 'bx')\n",
    "\n",
    "linear_fit = np.linalg.lstsq(phi_linear(x_ticks), X_shuf_train[row_number, :])[0]\n",
    "line = np.dot(phi_linear(poly_ticks), linear_fit)\n",
    "plt.plot(poly_ticks, line, 'r-')\n",
    "\n",
    "quar_fit = np.linalg.lstsq(phi_poly(x_ticks), X_shuf_train[row_number, :])[0]\n",
    "poly_line = np.dot(phi_poly(poly_ticks), quar_fit)\n",
    "plt.plot(poly_ticks, poly_line, 'g-')\n",
    "\n",
    "plt.plot([1], y_shuf_train[row_number, :], 'ro', mew=1, ms=10)\n",
    "\n",
    "plt.show()"
   ]
  },
  {
   "cell_type": "markdown",
   "metadata": {},
   "source": []
  }
 ],
 "metadata": {
  "kernelspec": {
   "display_name": "Python 2",
   "language": "python",
   "name": "python2"
  },
  "language_info": {
   "codemirror_mode": {
    "name": "ipython",
    "version": 2
   },
   "file_extension": ".py",
   "mimetype": "text/x-python",
   "name": "python",
   "nbconvert_exporter": "python",
   "pygments_lexer": "ipython2",
   "version": "2.7.11"
  }
 },
 "nbformat": 4,
 "nbformat_minor": 0
}
